{
 "cells": [
  {
   "cell_type": "code",
   "execution_count": null,
   "metadata": {},
   "outputs": [],
   "source": [
    "import os\n",
    "import re\n",
    "import toml\n",
    "import shutil\n",
    "import zipfile\n",
    "from time import time\n",
    "from IPython.display import Markdown, display\n",
    "import  swanlab\n",
    "import argparse\n"
   ]
  },
  {
   "cell_type": "code",
   "execution_count": 3,
   "metadata": {},
   "outputs": [],
   "source": []
  },
  {
   "cell_type": "markdown",
   "metadata": {},
   "source": [
    "## 设置路径"
   ]
  },
  {
   "cell_type": "code",
   "execution_count": null,
   "metadata": {},
   "outputs": [],
   "source": [
    "def setfolder():\n",
    "    root_dir = \"Loras\"\n",
    "    if not os.path.exists(root_dir):\n",
    "        os.makedirs(root_dir)\n",
    "    os.chdir(root_dir)  # 进入\"Loras\"文件夹\n",
    "\n",
    "    log_folder = os.path.join(os.getcwd(), \"log\")\n",
    "    config_folder = os.path.join(os.getcwd(), \"config\")\n",
    "    output_folder = os.path.join(os.getcwd(), \"output\")\n",
    "    datasets_folder = os.path.join(os.getcwd(), \"datasets\")\n",
    "\n",
    "    if not os.path.exists(log_folder):\n",
    "        os.makedirs(log_folder)\n",
    "    if not os.path.exists(config_folder):\n",
    "        os.makedirs(config_folder)\n",
    "    if not os.path.exists(output_folder):\n",
    "        os.makedirs(output_folder)\n",
    "    if not os.path.exists(datasets_folder):\n",
    "        os.makedirs(datasets_folder)"
   ]
  },
  {
   "cell_type": "markdown",
   "metadata": {},
   "source": [
    "## 下载模型"
   ]
  },
  {
   "cell_type": "code",
   "execution_count": null,
   "metadata": {},
   "outputs": [],
   "source": [
    "def download_models():\n",
    "  \n",
    "  training_model = args.training_model\n",
    "\n",
    "  if \"Anime\" in training_model:\n",
    "    model_url = \"https://huggingface.co/hollowstrawberry/stable-diffusion-guide/resolve/main/models/animefull-final-pruned-fp16.safetensors\"\n",
    "  else:\n",
    "    model_url = \"https://huggingface.co/hollowstrawberry/stable-diffusion-guide/resolve/main/models/sd-v1-5-pruned-noema-fp16.safetensors\""
   ]
  },
  {
   "cell_type": "code",
   "execution_count": null,
   "metadata": {},
   "outputs": [
    {
     "ename": "",
     "evalue": "",
     "output_type": "error",
     "traceback": [
      "\u001b[1;31m运行具有“SD”的单元格需要ipykernel包。\n",
      "\u001b[1;31m运行以下命令，将 \"ipykernel\" 安装到 Python 环境中。\n",
      "\u001b[1;31m命令: \"conda install -n SD ipykernel --update-deps --force-reinstall\""
     ]
    }
   ],
   "source": [
    "if __name__ == \"__main__\":\n",
    "    setfolder()\n",
    "    # Training Settings\n",
    "    parser = argparse.ArgumentParser(description=\"Difussion Lora Example\")\n",
    "    parser.add_argument(\"--project_name\",\"-n\",type=str,help=\"please input project name \")\n",
    "    args = parser.parse_args()\n",
    "    project_name = args.project_name\n",
    "    # additional_network_argument  \n",
    "    parser.add_argument(\"--unet_lr\",type=float,default=5e-4)\n",
    "    parser.add_argument(\"--text_encoder_lr\",type=float,default=1e-4)\n",
    "    parser.add_argument(\"--network_dim\",type=int,default=16,help=\"More dim means larger Lora, it can hold more information but more isn't always better. A dim between 8-32 is recommended\")\n",
    "    parser.add_argument(\"--network_alpha\",type=int,default=8,help=\"alpha equal to half the dim\")\n",
    "    parser.add_argument(\"--network_module\",default=\"networks.lora\")\n",
    "    parser.add_argument(\"--network_args\")\n",
    "    parser.add_argument(\"--network_train_unet_only\",default= None, help=\"True if text_encoder_lr == 0 else None\")\n",
    "    parser.add_argument(\"--network_weights\",default=None,help=\"continue_from_lora if continue_from_lora else None\")\n",
    "    \n",
    "    \n",
    "    # optimizer_arguments\n",
    "    parser.add_argument(\"--learning_rate\")\n",
    "    parser.add_argument(\"--lr_scheduler\",default=\"cosine_with_restarts\",choices=[\"constant\", \"cosine\", \"cosine_with_restarts\", \"constant_with_warmup\", \"linear\", \"polynomial\"])\n",
    "    parser.add_argument(\"--lr_scheduler_num_cycles\",default=3,help=\"3 if lr_scheduler == 'cosine_with_restarts' else 0\")\n",
    "    parser.add_argument(\"--lr_scheduler_power\",default=0,help=\"3 if lr_scheduler == 'polynomial' else 0\")\n",
    "    parser.add_argument(\"--lr_warmup_steps\",default=0)\n",
    "    parser.add_argument(\"--optimizer_type\",default=\"AdamW8bit\",choices=[\"AdamW8bit\", \"Prodigy\", \"DAdaptation\", \"DadaptAdam\", \"DadaptLion\", \"AdamW\", \"Lion\", \"SGDNesterov\", \"SGDNesterov8bit\", \"AdaFactor\"])\n",
    "    parser.add_argument(\"--optimizer_args\",default=None)\n",
    "    \n",
    "    \n",
    "    # training_arguments\n",
    "    parser.add_argument(\"--max_train_steps\",type=int,default=10)\n",
    "    parser.add_argument(\"--max_train_epochs\",type=int,default=10)\n",
    "    parser.add_argument(\"--save_every_n_epochs\",default=1)\n",
    "    parser.add_argument(\"--save_last_n_epochs\",default=10)\n",
    "    parser.add_argument(\"--train_batch_size\",default=2,choices=range(1,9))\n",
    "    parser.add_argument(\"--noise_offset\",default=None)\n",
    "    parser.add_argument(\"--clip_skip\",default=2)\n",
    "    parser.add_argument(\"--min_snr_gamma\",type=bool,default=True)\n",
    "    parser.add_argument(\"--weighted_captions\",default=False)\n",
    "    parser.add_argument(\"--seed\",type=int,default=42)\n",
    "    parser.add_argument(\"--max_token_length\",default=225)\n",
    "    parser.add_argument(\"--xformers\",default=True)\n",
    "    parser.add_argument(\"--lowram\")\n",
    "    parser.add_argument(\"--max_data_loader_n_workers\")\n",
    "    parser.add_argument(\"--persistent_data_loader_workers\")\n",
    "    parser.add_argument(\"--save_precision\",default=\"fp16\")\n",
    "    parser.add_argument(\"--mixed_precision\",default=\"fp16\")\n",
    "    parser.add_argument(\"--output_dir\")\n",
    "    parser.add_argument(\"--logging_dir\")\n",
    "    parser.add_argument(\"--output_name\",default=project_name)\n",
    "    parser.add_argument(\"--log_prefix\",default=project_name)\n",
    "    \n",
    "    \n",
    "    # model_arguments\n",
    "    parser.add_argument(\"--\",default=\"Anime (animefull-final-pruned-fp16.safetensors)\")\n",
    "    parser.add_argument(\"--v2\",type=bool,default=False)\n",
    "    parser.add_argument(\"--v_parameterization\")\n",
    "        \n",
    "    \n",
    "    # saving_arguments\n",
    "    parser.add_argument(\"--save_model_as\",default=\"safetensors\")\n",
    "   \n",
    "   \n",
    "    # dreambooth_arguments\n",
    "    parser.add_argument(\"--prior_loss_weight\",type=float,default=1.0)\n",
    "    \n",
    "    \n",
    "    # dataset_arguments\n",
    "    parser.add_argument(\"--cache_latents\",default=True)\n",
    "    \n",
    "    args = parser.parse_args()\n",
    "    \n",
    "    \n",
    "    \n",
    "    download_models()\n",
    "    \n",
    "    \n"
   ]
  }
 ],
 "metadata": {
  "kernelspec": {
   "display_name": "SD",
   "language": "python",
   "name": "python3"
  },
  "language_info": {
   "codemirror_mode": {
    "name": "ipython",
    "version": 3
   },
   "file_extension": ".py",
   "mimetype": "text/x-python",
   "name": "python",
   "nbconvert_exporter": "python",
   "pygments_lexer": "ipython3",
   "version": "3.9.18"
  }
 },
 "nbformat": 4,
 "nbformat_minor": 2
}
